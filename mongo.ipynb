{
 "cells": [
  {
   "cell_type": "markdown",
   "id": "7f73ccbb",
   "metadata": {},
   "source": [
    "# Article Ingestion with Date‑Based Sharding & Deduplication\n",
    "\n",
    "**What this notebook does**  \n",
    "This notebook implements our MongoDB ingestion logic to:  \n",
    "1. Load cluster configurations and keywords.  \n",
    "2. Route writes to the correct Atlas cluster based on each article’s date.  \n",
    "3. Filter non‑English or irrelevant articles.  \n",
    "4. Generate deterministic `_id` hashes for deduplication.  \n",
    "5. Perform batched `insert_many` with retry and duplicate‑error handling.\n"
   ]
  },
  {
   "cell_type": "markdown",
   "id": "d9ce18c6",
   "metadata": {},
   "source": [
    "# 1. Imports & Environment Setup  \n",
    "Import required libraries and load environment variables.\n"
   ]
  },
  {
   "cell_type": "code",
   "execution_count": null,
   "id": "9a050eb3",
   "metadata": {},
   "outputs": [],
   "source": [
    "from pymongo import MongoClient\n",
    "import hashlib\n",
    "from dotenv import load_dotenv\n",
    "import os\n",
    "import time\n",
    "from pymongo.errors import ServerSelectionTimeoutError, BulkWriteError\n",
    "from datetime import datetime\n",
    "\n",
    "# Load environment variables\n",
    "load_dotenv()\n"
   ]
  },
  {
   "cell_type": "markdown",
   "id": "f619a503",
   "metadata": {},
   "source": [
    "# 2. Cluster Configurations & Keywords  \n",
    "Define MongoDB clusters with date ranges and our target keywords.\n"
   ]
  },
  {
   "cell_type": "code",
   "execution_count": null,
   "id": "ef4cc8c8",
   "metadata": {},
   "outputs": [],
   "source": [
    "# MongoDB cluster configurations\n",
    "CLUSTERS = {\n",
    "    \"cluster1\": {\n",
    "        \"uri\": os.getenv(\"MONGO_ATLAS_URI_1\"),\n",
    "        \"start_date\": \"2024-01-01T00:00:00Z\",\n",
    "        \"end_date\": \"2024-03-01T23:59:59Z\"\n",
    "    },\n",
    "    \"cluster2\": {\n",
    "        \"uri\": os.getenv(\"MONGO_ATLAS_URI_2\"),\n",
    "        \"start_date\": \"2024-03-02T00:00:00Z\",\n",
    "        \"end_date\": \"2024-04-26T23:59:59Z\"\n",
    "    },\n",
    "    \"cluster3\": {\n",
    "        \"uri\": os.getenv(\"MONGO_ATLAS_URI_3\"),\n",
    "        \"start_date\": \"2024-04-27T00:00:00Z\",\n",
    "        \"end_date\": \"2024-06-30T23:59:59Z\"\n",
    "    }\n",
    "}\n",
    "\n",
    "# Keywords to match\n",
    "KEYWORDS = [\"tesla\", \"apple\", \"google\", \"nvidia\", \"microsoft\"]\n"
   ]
  },
  {
   "cell_type": "markdown",
   "id": "0a54529e",
   "metadata": {},
   "source": [
    "# 3. Date‑Based Client Selection  \n",
    "Given an ISO timestamp, connect to the cluster whose range covers that date.\n"
   ]
  },
  {
   "cell_type": "code",
   "execution_count": null,
   "id": "d199d4b9",
   "metadata": {},
   "outputs": [],
   "source": [
    "def get_client_for_date(date_str):\n",
    "    \"\"\"Get the appropriate MongoDB client based on the date\"\"\"\n",
    "    date_obj = datetime.strptime(date_str, \"%Y-%m-%dT%H:%M:%SZ\")\n",
    "    \n",
    "    for cluster_name, cluster in CLUSTERS.items():\n",
    "        start_date = datetime.strptime(cluster[\"start_date\"], \"%Y-%m-%dT%H:%M:%SZ\")\n",
    "        end_date   = datetime.strptime(cluster[\"end_date\"],   \"%Y-%m-%dT%H:%M:%SZ\")\n",
    "        \n",
    "        if start_date <= date_obj <= end_date:\n",
    "            return MongoClient(cluster[\"uri\"])\n",
    "    \n",
    "    # Default to first cluster if date is outside ranges\n",
    "    return MongoClient(CLUSTERS[\"cluster1\"][\"uri\"])\n"
   ]
  },
  {
   "cell_type": "markdown",
   "id": "617e8145",
   "metadata": {},
   "source": [
    "# 4. Batched Insert with Deduplication  \n",
    "Filter, hash, and insert articles with retry logic and duplicate tracking.\n"
   ]
  },
  {
   "cell_type": "code",
   "execution_count": null,
   "id": "18c8468c",
   "metadata": {},
   "outputs": [],
   "source": [
    "def insert_articles(articles):\n",
    "    global collection  # ✅ Declare once here if we are going to refresh it inside\n",
    "\n",
    "    documents = []\n",
    "    inserted_count = 0\n",
    "    duplicate_count = 0\n",
    "\n",
    "    # Prepare documents\n",
    "    for article in articles:\n",
    "        if article.get(\"lang\") != \"ENGLISH\":\n",
    "            continue\n",
    "\n",
    "        title = article.get(\"title\", \"\").lower()\n",
    "        url   = article.get(\"url\",   \"\").lower()\n",
    "\n",
    "        if not any(keyword in title or keyword in url for keyword in KEYWORDS):\n",
    "            continue\n",
    "\n",
    "        url_or_title = article.get(\"url\") or article.get(\"title\") or str(article)\n",
    "        _id = hashlib.md5(url_or_title.encode('utf-8')).hexdigest()\n",
    "\n",
    "        doc = {\n",
    "            \"_id\":      _id,\n",
    "            \"date\":     article.get(\"date\"),\n",
    "            \"title\":    article.get(\"title\"),\n",
    "            \"url\":      article.get(\"url\"),\n",
    "            \"lang\":     article.get(\"lang\"),\n",
    "            \"docembed\": article.get(\"docembed\", []),\n",
    "        }\n",
    "        documents.append(doc)\n",
    "\n",
    "    if documents:\n",
    "        retries = 3\n",
    "        while retries > 0:\n",
    "            try:\n",
    "                # Get the appropriate client based on the first article's date\n",
    "                client     = get_client_for_date(documents[0][\"date\"])\n",
    "                db         = client[\"gdelt_news\"]\n",
    "                collection = db[\"articles\"]\n",
    "                \n",
    "                result = collection.insert_many(documents, ordered=False)\n",
    "                inserted_count = len(result.inserted_ids)\n",
    "                break  # success\n",
    "\n",
    "            except ServerSelectionTimeoutError:\n",
    "                print(f\"⚠️ Connection Timeout. Refreshing Mongo Client and Retrying in 5 seconds... ({retries-1} retries left)\")\n",
    "                time.sleep(5)\n",
    "                retries -= 1\n",
    "\n",
    "            except BulkWriteError as bwe:\n",
    "                inserted_count = bwe.details['nInserted']\n",
    "                duplicate_count = len(bwe.details['writeErrors'])\n",
    "                break  # partial insert ok\n",
    "\n",
    "        if retries == 0:\n",
    "            print(\"❌ All retries failed. Skipping current batch to continue ETL...\")\n",
    "\n",
    "    return inserted_count, duplicate_count\n"
   ]
  }
 ],
 "metadata": {
  "language_info": {
   "name": "python"
  }
 },
 "nbformat": 4,
 "nbformat_minor": 5
}
